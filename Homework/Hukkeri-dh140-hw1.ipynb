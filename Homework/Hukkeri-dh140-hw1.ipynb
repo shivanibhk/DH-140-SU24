{
  "cells": [
    {
      "metadata": {},
      "id": "b5f0c4db",
      "cell_type": "markdown",
      "source": "# Assignment:  Markdown & Jupyter"
    },
    {
      "metadata": {},
      "id": "c26ac0a1",
      "cell_type": "markdown",
      "source": "The aim of this assignment is to give you practice working with this Jupyter environment and writing Markdown.  \n\nThis exercise is also intended to start you thinking about what you might like to work on for a project.  (I will not hold you to any project ideas written here; you are welcome to change your mind later.)\n\n## Notes\n\n* There are many guides out there on how to use markdown syntax.  The following is one example you may find useful:\n  * [Markdown Cheatsheet](https://github.com/adam-p/markdown-here/wiki/Markdown-Cheatsheet)\n* In this assignment notebook, you will find that you are unable to alter the content of the cells that I have written -> this is on purpose.  However, you will be able to edit and run all response cells.\n* After writing your responses in markdown, execute the cells so that your markdown text gets rendered."
    },
    {
      "metadata": {},
      "id": "804da742",
      "cell_type": "markdown",
      "source": "<div class=\"alert alert-info\">\n\n<b>Initial step:</b>\n\nOpen the cell below in edit mode (by double-clicking on it), look at how it is written, and then run it.  Make sure you understand how the text is marked up to get the header style, italics, bold, and a bulleted list.\n    \n</div>"
    },
    {
      "metadata": {},
      "id": "077299bc",
      "cell_type": "markdown",
      "source": "(double-click here to edit)\n\n# First example\n\nThis is one example of a *cell* that is written using **markdown** syntax.\n\nIt uses:\n* '#' for a header\n* '*' for italics\n* '**' for bold"
    },
    {
      "metadata": {},
      "id": "e3167151",
      "cell_type": "markdown",
      "source": "<div class=\"alert alert-info\">\n\n<b>Personal Profile:</b>\n\nUse markdown in the cell below to write a personal profile.  \n    \nThis should include:\n1. your name, styled as an H1 header (see for example the above cheatsheet)\n2. your major in bold font\n3. your year in school in italics\n4. a description of why you are interested in the course, in normal font.\n\n</div>"
    },
    {
      "metadata": {},
      "id": "a5c86291",
      "cell_type": "markdown",
      "source": "# Shivani Hukkeri\n\nHi, my name is Shivani and I'm currently a *rising junior* studying **Computer Science**. I'm curious to take this course because I want to see how programming ties in with analyzing data trends in humanities-related research questions. DH101 gave me a taste as we delved into researching & constructing a narrative on a dataset of our choice, but now I want to see how we can use programming to achieve our goals.\n\n"
    },
    {
      "metadata": {},
      "id": "8765db37",
      "cell_type": "markdown",
      "source": "<div class=\"alert alert-info\">\n\n**Data and viz of interest**\n\n1. Find a journal or newspaper article that relates data science to a humanities topic that you are interested in.\n  * Add a hypertext link to the article in the next cell and comment on why it interests you.\n2. Find a data visualization that you would love to know how to make with Python\n  * Include the image in the next cell too and comment on why you like it."
    },
    {
      "metadata": {},
      "id": "60a3657f",
      "cell_type": "markdown",
      "source": "1. The article [\"Connecting music and big data\"](https://news.umich.edu/connecting-music-and-big-data/) explains how data science is being used to bridge the gap between language and music. It talks about projects that create tools to generate musical interpretations of texts based on their content & emotional tone, offering new ways to experience and interact with literature and other forms of written content.\n2. Here's a network graph of how different individuals are related in Game of Thrones. ![Game of Thrones Family](https://external-content.duckduckgo.com/iu/?u=https%3A%2F%2Fdist.neo4j.com%2Fwp-content%2Fuploads%2Fexample-viz.png&f=1&nofb=1&ipt=fd895b293f78d7be4786129a718ec061c08b8beb819cd57f3f300b3a8e3d9e8e&ipo=images)\nGame of Thrones is one of my favorite series and I've always been fascinated by the intricate story line. I like network graphs because they're very relevant to computer science and can reveal interesting relationships between topics.\n"
    },
    {
      "metadata": {},
      "id": "08d8e201",
      "cell_type": "markdown",
      "source": "<div class=\"alert alert-info\">\n\n<b>Ideas for data to investigate</b>\n\nIn the cell below:\n1. Write a bulleted list of 2 or 3 humanities topics of interest to you.\n2. Do a quick search for data and/or articles related to those topics, and write a numbered list of links to your search results.\n    \n</div>\n\n"
    },
    {
      "metadata": {},
      "id": "81400531",
      "cell_type": "markdown",
      "source": "- Modern music\n- Gender & Sexuality in Culture\n- Social distancing and the connections made through social media\n1. [Data Science in Music: Analyzing Musical Patterns and Preferences](https://www.indatalytics.com/post/data-science-in-music-analyzing-musical-patterns-and-preferences)\n2. [Gender and sexuality in Asia](https://www.emerald.com/insight/content/doi/10.1108/EDI-06-2023-379/full/html)\n3. [Media for Coping During COVID-19 Social Distancing: Stress, Anxiety, and Psychological Well-Being](https://www.frontiersin.org/journals/psychology/articles/10.3389/fpsyg.2020.577639/full)\n\n"
    },
    {
      "metadata": {},
      "id": "66a44ea0",
      "cell_type": "markdown",
      "source": "<div class=\"alert alert-info\">\n\n<b>Ideas from curated datasets & project lists</b>\n\nReview the projects and datasets on the following two pages:\n* https://miriamposner.com/classes/dh201w21/final-project/datasets\n* https://archive.ics.uci.edu/datasets\n\nMake a table in the cell below that includes columns for (1) the name of any dataset of interest, (2) a brief description of the data and how you think coding might be useful to investigate the dataset, and (3) a hypertext link to the data.\n    \nThere is no restriction on number of datasets to include, but please include at least two."
    },
    {
      "metadata": {},
      "id": "7bd91c33",
      "cell_type": "markdown",
      "source": "| Dataset Name        | Description           | Link  |\n| ------------- |:-------------:| -----:|\n|A database of graphic novels      | The Graphic Narrative Corpus includes graphic novels, memoirs, jounalism, and fantasy comics aimed at adult readers. It contains novels from the mid-1970s to 2017. Coding can help parse and analyze the metadata associated with these texts to understand trends across different regions, and NLP techniques would further allow us to analyze the textual content including sentiment analysis, topic modeling, etc to explore narrative techniques. | [Graph Novels Dataset](https://groups.uni-paderborn.de/graphic-literature/gncorpus/corpus.php) |\n|Surveillance technology around the US      | This database documents the deployment of surveillance technologies by law enforcement agencies across the US. Coding allows us to conduct geospatial analysis with which researchers can map the distribution of surveillance tech across different jurisdictions. We can use network analysis to analyze the relationships between law enforcement agencies and technology providers.      |   [Atlas of Surveillance](https://atlasofsurveillance.org) |\n|A database of Scottish witchcraft | The dataset contains records of nearly 4000 individuals accused of witchcraft in early modern Scotland. Coding can help us perform complex searches to reveal patterns in accusations, trial outcomes, and societal contexts. For example, we can automate searches for a specific theme such as accusations related to demonic possession. Coding also allows us to create visual representations to illustrate the geographical distribution of witchcraft cases over time.     |   [Scottish Witchcraft](https://witches.hca.ed.ac.uk) |\n\n"
    },
    {
      "metadata": {},
      "id": "a8a6ab2a",
      "cell_type": "markdown",
      "source": "<div class=\"alert alert-info\">\n\n<b>Submit</b>\n\nSubmit this assignment by:\n1. Saving the file\n2. Clicking on the Submit button at the top\n\n</div>"
    }
  ],
  "metadata": {
    "kernelspec": {
      "name": "python3",
      "display_name": "Python 3 (ipykernel)",
      "language": "python"
    },
    "language_info": {
      "name": "python",
      "version": "3.11.6",
      "mimetype": "text/x-python",
      "codemirror_mode": {
        "name": "ipython",
        "version": 3
      },
      "pygments_lexer": "ipython3",
      "nbconvert_exporter": "python",
      "file_extension": ".py"
    }
  },
  "nbformat": 4,
  "nbformat_minor": 5
}