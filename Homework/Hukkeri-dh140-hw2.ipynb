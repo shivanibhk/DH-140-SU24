{
  "cells": [
    {
      "metadata": {},
      "id": "e8b4c3b5",
      "cell_type": "markdown",
      "source": "# Assignment: Python Basics"
    },
    {
      "metadata": {},
      "id": "0327c786",
      "cell_type": "markdown",
      "source": "The following assignment is intended to help you practice (potentially completely new) Python skills.\n\nIt's not intended to make you tear your hair out in consternation! If you want hints or guidance on the basics, please come to our first class prepared with questions.\n\nIn the spaces below, you are welcome to add new code cells as you wish to help you craft your answers."
    },
    {
      "metadata": {},
      "id": "206ae631",
      "cell_type": "markdown",
      "source": "## Python exercises"
    },
    {
      "metadata": {},
      "id": "c4662958",
      "cell_type": "markdown",
      "source": "Carry out the following instructions in the code cells beneath each instruction."
    },
    {
      "metadata": {},
      "id": "820d476f",
      "cell_type": "markdown",
      "source": "Do a mathematical calculation that includes at least three of the following operators: `+`, `-`, `*`, `/`, and/or `%`."
    },
    {
      "metadata": {
        "trusted": true
      },
      "id": "0dfb8677",
      "cell_type": "code",
      "source": "print((56 + 6) % 10 - 9 * 6) \n# order of ops: (+) % * -\n# // integer division\n# result: -52",
      "execution_count": 22,
      "outputs": [
        {
          "output_type": "stream",
          "text": "-52\n",
          "name": "stdout"
        }
      ]
    },
    {
      "metadata": {},
      "id": "da529bd7",
      "cell_type": "markdown",
      "source": "Assign a number to the variable `a`"
    },
    {
      "metadata": {
        "trusted": true
      },
      "id": "fcd2f994",
      "cell_type": "code",
      "source": "a = 56",
      "execution_count": 2,
      "outputs": []
    },
    {
      "metadata": {},
      "id": "88a251f2",
      "cell_type": "markdown",
      "source": "Use an `if` statement to print out \"a is even\" or \"a is odd\" depending on whether `a % 2` is true or false."
    },
    {
      "metadata": {
        "trusted": true
      },
      "id": "7d3c2c74",
      "cell_type": "code",
      "source": "if (a % 2 == 0):\n  print(\"a is even\")\nelse:\n  print(\"a is odd\")",
      "execution_count": 3,
      "outputs": [
        {
          "output_type": "stream",
          "text": "a is even\n",
          "name": "stdout"
        }
      ]
    },
    {
      "metadata": {},
      "id": "79c99999",
      "cell_type": "markdown",
      "source": "Assign `a` to be a Python list that consists of the numbers 1, 1, 2, 3, 5, 8, 13, 21, 34, 55, 89"
    },
    {
      "metadata": {
        "trusted": true
      },
      "id": "0290dfff",
      "cell_type": "code",
      "source": "a = [1, 1, 2, 3, 5, 8, 13, 21, 34, 55, 89]",
      "execution_count": 4,
      "outputs": []
    },
    {
      "metadata": {},
      "id": "560fe59e",
      "cell_type": "markdown",
      "source": "Print all the elements of `a`"
    },
    {
      "metadata": {
        "trusted": true
      },
      "id": "1250779f",
      "cell_type": "code",
      "source": "# print(a)\nfor item in a:\n  print(item)",
      "execution_count": 5,
      "outputs": [
        {
          "output_type": "stream",
          "text": "1\n1\n2\n3\n5\n8\n13\n21\n34\n55\n89\n",
          "name": "stdout"
        }
      ]
    },
    {
      "metadata": {},
      "id": "55f6f2f4",
      "cell_type": "markdown",
      "source": "Print the first element of `a` (where you get the first element by using index notation)"
    },
    {
      "metadata": {
        "trusted": true
      },
      "id": "21803e34",
      "cell_type": "code",
      "source": "print(a[0])",
      "execution_count": 6,
      "outputs": [
        {
          "output_type": "stream",
          "text": "1\n",
          "name": "stdout"
        }
      ]
    },
    {
      "metadata": {},
      "id": "f870e7f5",
      "cell_type": "markdown",
      "source": "Print the fifth element at `a`"
    },
    {
      "metadata": {
        "trusted": true
      },
      "id": "3962f2bd",
      "cell_type": "code",
      "source": "print(a[4])",
      "execution_count": 7,
      "outputs": [
        {
          "output_type": "stream",
          "text": "5\n",
          "name": "stdout"
        }
      ]
    },
    {
      "metadata": {},
      "id": "5258a1f0",
      "cell_type": "markdown",
      "source": "Print the last element of `a`"
    },
    {
      "metadata": {
        "trusted": true
      },
      "id": "73dc6218",
      "cell_type": "code",
      "source": "print(a[-1])",
      "execution_count": 8,
      "outputs": [
        {
          "output_type": "stream",
          "text": "89\n",
          "name": "stdout"
        }
      ]
    },
    {
      "metadata": {},
      "id": "012ca097",
      "cell_type": "markdown",
      "source": "Use the `len()` method to output the length of `a`\n  * you may find it useful to look at https://python.readthedocs.io/en/stable/library/functions.html for documentation about `len()`"
    },
    {
      "metadata": {
        "trusted": true
      },
      "id": "b467e030",
      "cell_type": "code",
      "source": "print(len(a))",
      "execution_count": 9,
      "outputs": [
        {
          "output_type": "stream",
          "text": "11\n",
          "name": "stdout"
        }
      ]
    },
    {
      "metadata": {},
      "id": "457c66e4",
      "cell_type": "markdown",
      "source": "Print all the elements of `a` less than 8"
    },
    {
      "metadata": {
        "trusted": true
      },
      "id": "13a57a53",
      "cell_type": "code",
      "source": "for item in a:\n  if item < 8:\n    print(item)",
      "execution_count": 10,
      "outputs": [
        {
          "output_type": "stream",
          "text": "1\n1\n2\n3\n5\n",
          "name": "stdout"
        }
      ]
    },
    {
      "metadata": {},
      "id": "0ca93e51",
      "cell_type": "markdown",
      "source": "Print out the elements of `a` in reverse order\n  * look at https://python-reference.readthedocs.io/en/latest/docs/list, specifically `reverse`"
    },
    {
      "metadata": {
        "trusted": true
      },
      "id": "4fea2769",
      "cell_type": "code",
      "source": "rev = a[::-1]\nfor item in rev:\n  print(item)\n    \n# or\n# a.reverse()\n# for item in rev:\n#   print(item)",
      "execution_count": 11,
      "outputs": [
        {
          "output_type": "stream",
          "text": "89\n55\n34\n21\n13\n8\n5\n3\n2\n1\n1\n",
          "name": "stdout"
        }
      ]
    },
    {
      "metadata": {},
      "id": "979e9401",
      "cell_type": "markdown",
      "source": "Append the next fibonacci number to `a` and print out the new list\n  * elements in the fibonacci sequence are equal to the sum of the previous two elements\n  * look again at the docs, this time for `append`"
    },
    {
      "metadata": {
        "trusted": true
      },
      "id": "93b41dad",
      "cell_type": "code",
      "source": "fib_num = a[len(a) - 2] + a[len(a) - 1]\na.append(fib_num)\nprint(a)\n\n# with reversed a list\na.pop()\na.reverse()\nfib_num = a[len(a) - 2] + a[len(a) - 1]\na.append(fib_num)\nprint(a)",
      "execution_count": 12,
      "outputs": [
        {
          "output_type": "stream",
          "text": "[1, 1, 2, 3, 5, 8, 13, 21, 34, 55, 89, 144]\n[89, 55, 34, 21, 13, 8, 5, 3, 2, 1, 1, 2]\n",
          "name": "stdout"
        }
      ]
    },
    {
      "metadata": {},
      "id": "c0c687c9",
      "cell_type": "markdown",
      "source": "Assign `a` and `b` to be lists of numbers as follows:\n\n`a = [1, 1, 2, 3, 5, 8, 13, 21, 34, 55, 89]`\n\n`b = [1, 2, 3, 4, 5, 6, 7, 8, 9, 10, 11, 12, 13]`\n\nThen use Python to print out the intersection of `a` and `b`, i.e. those elements that are contained in both `a` and `b`."
    },
    {
      "metadata": {
        "trusted": true
      },
      "id": "5a0a2a48",
      "cell_type": "code",
      "source": "a = [1, 1, 2, 3, 5, 8, 13, 21, 34, 55, 89]\nb = [1, 2, 3, 4, 5, 6, 7, 8, 9, 10, 11, 12, 13]\nintersection = [element for element in a if element in b]\nprint(intersection)\n\n# or\ni = 0\nwhile i < len(a) and i < len(b):\n  if a[i] in b:\n    print(a[i])\n  i += 1",
      "execution_count": 13,
      "outputs": [
        {
          "output_type": "stream",
          "text": "[1, 1, 2, 3, 5, 8, 13]\n1\n1\n2\n3\n5\n8\n13\n",
          "name": "stdout"
        }
      ]
    },
    {
      "metadata": {},
      "id": "10ec278a",
      "cell_type": "markdown",
      "source": "Set:\n\n`a = {'January': 7, 'February': 8, 'March': 5, 'April': 5}`\n\nThen add a new item to the dictionary and print the message \"\\<key> has \\<value> letters\" for every \\<key>:\\<value> pair that is in the dictionary.  As an example, if your dictionary was `{'x': 10}` then you would print `x has 10 letters`"
    },
    {
      "metadata": {
        "trusted": true
      },
      "id": "59d49038",
      "cell_type": "code",
      "source": "a = {'January': 7, 'February': 8, 'March': 5, 'April': 5}\na[\"May\"] = 3\nfor key, val in a.items():\n  print(f\"{key} has {val} letters\")",
      "execution_count": 14,
      "outputs": [
        {
          "output_type": "stream",
          "text": "January has 7 letters\nFebruary has 8 letters\nMarch has 5 letters\nApril has 5 letters\nMay has 3 letters\n",
          "name": "stdout"
        }
      ]
    },
    {
      "metadata": {},
      "id": "b4f3ae3d",
      "cell_type": "markdown",
      "source": "Write a Python function that takes as input a list of numbers and prints a new Python list containing the first and last elements of the given list."
    },
    {
      "metadata": {
        "trusted": true
      },
      "id": "94a3397e",
      "cell_type": "code",
      "source": "def first_last(arr):\n  new_arr = [arr[0], arr[len(arr) - 1]]\n  # or new_arr = [arr[0], arr[-1]]\n  print(new_arr)",
      "execution_count": 15,
      "outputs": []
    },
    {
      "metadata": {},
      "id": "ded5e5da",
      "cell_type": "markdown",
      "source": "Execute your Python function with several examples."
    },
    {
      "metadata": {
        "trusted": true
      },
      "id": "24495695",
      "cell_type": "code",
      "source": "a = [1, 1, 2, 3, 5, 8, 13, 21, 34, 55, 89]\nb = [1, 2, 3, 4, 5, 6, 7, 8, 9, 10, 11, 12, 13]\nc = [4, 7,23, 41]\nd = [90, 85, 27]\n\nfirst_last(a)\nfirst_last(b)\nfirst_last(c)\nfirst_last(d)",
      "execution_count": 16,
      "outputs": [
        {
          "output_type": "stream",
          "text": "[1, 89]\n[1, 13]\n[4, 41]\n[90, 27]\n",
          "name": "stdout"
        }
      ]
    },
    {
      "metadata": {
        "trusted": true
      },
      "id": "a34312cf",
      "cell_type": "code",
      "source": "# Execute this cell and look at its output\n\nml_sentence = '''\nA computer program is said to learn \nfrom experience E with respect to some class of tasks T \nand performance measure P if its performance at tasks in T \nas measured by P improves with experience E.\n'''\n\nml_sentence_words = {}\nfor i in ml_sentence.split():\n    if i in ml_sentence_words.keys():\n        ml_sentence_words[i] += 1\n    else:\n        ml_sentence_words[i] = 1\nprint(ml_sentence_words)",
      "execution_count": 17,
      "outputs": [
        {
          "output_type": "stream",
          "text": "{'A': 1, 'computer': 1, 'program': 1, 'is': 1, 'said': 1, 'to': 2, 'learn': 1, 'from': 1, 'experience': 2, 'E': 1, 'with': 2, 'respect': 1, 'some': 1, 'class': 1, 'of': 1, 'tasks': 2, 'T': 2, 'and': 1, 'performance': 2, 'measure': 1, 'P': 2, 'if': 1, 'its': 1, 'at': 1, 'in': 1, 'as': 1, 'measured': 1, 'by': 1, 'improves': 1, 'E.': 1}\n",
          "name": "stdout"
        }
      ]
    },
    {
      "metadata": {},
      "id": "4d522ed6",
      "cell_type": "markdown",
      "source": "[Edit this markdown cell to write answers to the following.  You may use the cell immediately beneath this one to test code if you want.]\n\n* In the cell above, what does `ml_sentence.split()` do?<br>\nIt creates an iterable list out of ml_sentence with each element as a word in the sentence. It uses the default delimeter, a space, to extract each word from the sentence (i.e. it splits the sentence by spaces).\n<br>\n\n* What keys are added to `ml_sentence_words`?<br>\nThe keys added to this dictionary are the unique case-sensitive words that are present in ml_sentence. For example, \"The dog the cat\" would produce the unique words \"The\", \"the\", \"dog\", and \"cat\".\n<br>\n\n* What values are added to `ml_sentence_words`?<br>\nThe values represent the number of times that word (key) is present in the sentence."
    },
    {
      "metadata": {
        "trusted": true
      },
      "id": "be52db23",
      "cell_type": "code",
      "source": "# This cell is for testing code\nprint(ml_sentence_words.keys())\n",
      "execution_count": 18,
      "outputs": [
        {
          "output_type": "stream",
          "text": "dict_keys(['A', 'computer', 'program', 'is', 'said', 'to', 'learn', 'from', 'experience', 'E', 'with', 'respect', 'some', 'class', 'of', 'tasks', 'T', 'and', 'performance', 'measure', 'P', 'if', 'its', 'at', 'in', 'as', 'measured', 'by', 'improves', 'E.'])\n",
          "name": "stdout"
        }
      ]
    },
    {
      "metadata": {},
      "id": "35e26a57",
      "cell_type": "markdown",
      "source": "Time to roll up our sleeves and make a similar dictionary for all the words in Macbeth.\n\nExecute the following cell and look at its output."
    },
    {
      "metadata": {
        "trusted": true
      },
      "id": "14334bc7",
      "cell_type": "code",
      "source": "# Here we import libraries that can grab data from the web (via requests)\n# and form a list of words using NLTK.\nimport requests\nfrom nltk.tokenize import word_tokenize\nimport nltk\nnltk.download('punkt')\n\n# Here we get the text of Macbeth from Project Gutenberg (https://www.gutenberg.org/) \n# and \"tokenize\" the text (split it up into words)\ntarget_url = \"https://www.gutenberg.org/files/1533/1533-0.txt\"\nresponse = requests.get(target_url)\ntext_string = response.text\ntext_string = text_string.lower()\ntext_words = word_tokenize(text_string)\n\n# Here we print the first 10 words\nprint(text_words[0:10])",
      "execution_count": 19,
      "outputs": [
        {
          "output_type": "stream",
          "text": "[nltk_data] Downloading package punkt to /home/jovyan/nltk_data...\n[nltk_data]   Package punkt is already up-to-date!\n",
          "name": "stderr"
        },
        {
          "output_type": "stream",
          "text": "['ï', '»', '¿', '*', '*', '*', 'start', 'of', 'the', 'project']\n",
          "name": "stdout"
        }
      ]
    },
    {
      "metadata": {},
      "id": "7c546232",
      "cell_type": "markdown",
      "source": "`text_words` is now a Python list whose elements consist of the words contained in Macbeth.  The command `print(text_words[0:10])` prints out the first 10 \"words\" in the list.\n\nMake a Python dictionary whose keys are the unique words in `text_words`, with the corresponding values for each key being the word counts.\n\n* The example above with `ml_sentence_words` can be useful when figuring out one way to do this."
    },
    {
      "metadata": {
        "trusted": true
      },
      "id": "0e1ce1a0",
      "cell_type": "code",
      "source": "text_words_dict = {}\nfor word in text_words:\n  if word in text_words_dict:\n    text_words_dict[word] += 1\n  else:\n    text_words_dict[word] = 1",
      "execution_count": 20,
      "outputs": []
    },
    {
      "metadata": {},
      "id": "f6819668",
      "cell_type": "markdown",
      "source": "Check out some entries in the dictionary. At the very least, print out the counts for the words 'macbeth', 'sword', and 'thy'"
    },
    {
      "metadata": {
        "trusted": true
      },
      "id": "5f846e6a",
      "cell_type": "code",
      "source": "count = 0\nfor key, val in text_words_dict.items():\n  print(f\"{key}: {val}\")\n  count += 1\n  if count == 10:\n    break\n\nprint(\"macbeth:\", text_words_dict[\"macbeth\"])\nprint(\"sword:\", text_words_dict[\"sword\"])\nprint(\"thy:\", text_words_dict[\"thy\"])",
      "execution_count": 21,
      "outputs": [
        {
          "output_type": "stream",
          "text": "ï: 1\n»: 1\n¿: 1\n*: 12\nstart: 4\nof: 360\nthe: 728\nproject: 2\ngutenberg: 2\nebook: 2\nmacbeth: 284\nsword: 11\nthy: 52\n",
          "name": "stdout"
        }
      ]
    },
    {
      "metadata": {},
      "id": "109f2afa",
      "cell_type": "markdown",
      "source": "## Submit\n\nSubmit this assignment by:\n\n* Saving your work\n* Clicking on the Submit button at the top"
    }
  ],
  "metadata": {
    "kernelspec": {
      "name": "python3",
      "display_name": "Python 3 (ipykernel)",
      "language": "python"
    },
    "language_info": {
      "name": "python",
      "version": "3.11.6",
      "mimetype": "text/x-python",
      "codemirror_mode": {
        "name": "ipython",
        "version": 3
      },
      "pygments_lexer": "ipython3",
      "nbconvert_exporter": "python",
      "file_extension": ".py"
    }
  },
  "nbformat": 4,
  "nbformat_minor": 5
}